{
 "cells": [
  {
   "cell_type": "code",
   "execution_count": 8,
   "id": "1733a426",
   "metadata": {},
   "outputs": [
    {
     "name": "stdout",
     "output_type": "stream",
     "text": [
      "year:2021\n",
      "month:8\n",
      "['01', '02', '03', '04', '05', '06', '07', '08', '09', '10', '11', '12', '13', '14', '15', '16', '17', '18', '19', '20', '21', '22', '23', '24', '25', '26', '27', '28', '29', '30', '31']\n",
      "01\n"
     ]
    }
   ],
   "source": [
    "import calendar\n",
    "import os\n",
    "import random\n",
    "import sys\n",
    "import requests\n",
    "import json\n",
    "import time\n",
    "\n",
    "from sklearn.preprocessing import PolynomialFeatures\n",
    "\n",
    "\n",
    "def delete(list):\n",
    "    resultList = []\n",
    "    for item in list:\n",
    "        if not item in resultList:\n",
    "            resultList.append(item)\n",
    "    return resultList\n",
    "\n",
    "\n",
    "def readjson(num, file):\n",
    "    with open(file+\"%d.json\" % num, 'r') as load_f:\n",
    "        load_dict = json.load(load_f)\n",
    "        D = load_dict[0][\"data\"]\n",
    "    return D\n",
    "\n",
    "\n",
    "def process(Data):\n",
    "    # 创建一个二维矩阵\n",
    "    a = [[0 for col in range(2)] for row in range(30)]\n",
    "\n",
    "    for i in range(len(Data)):\n",
    "        # 去除不整点\n",
    "        if ((Data[i][0] / 1000) % 3600) != 0:\n",
    "            i += 1\n",
    "        # 避免最后溢出\n",
    "        if i >= len(Data):\n",
    "            break\n",
    "        # 时间戳转换\n",
    "        timeStamp = Data[i][0] / 1000\n",
    "        timeArray = time.localtime(timeStamp)\n",
    "        otherStyleTime = time.strftime(\"%Y-%m-%d %H:%M:%S\", timeArray)\n",
    "        # i+1行的一二列\n",
    "        a[i][0] = otherStyleTime\n",
    "        a[i][1] = Data[i][1]\n",
    "\n",
    "    # 去除零\n",
    "    for i in a[:]:\n",
    "        if i[0] == 0:\n",
    "            a.remove(i)\n",
    "\n",
    "    b = delete(a)\n",
    "    return b\n",
    "\n",
    "\n",
    "def save(b, n, Name, file):\n",
    "    # 保存为txt\n",
    "    file = open(file+Name+'%d.txt' % n, 'w')\n",
    "    for i in range(len(b)):\n",
    "        s = str(b[i]).replace(\"'\", '').replace('[', '').replace(']', '') + '\\n'\n",
    "        file.write(s)\n",
    "    file.close()\n",
    "\n",
    "\n",
    "year = int(input('year:'))\n",
    "month = int(input('month:'))\n",
    "\n",
    "number = calendar.monthrange(year, month)[1]\n",
    "month=str(month).rjust(2,'0')\n",
    "# print(month)\n",
    "ls = [0]*number\n",
    "for i in range(1,number+1):\n",
    "    ls[i-1] = str(i).rjust(2, '0')"
   ]
  },
  {
   "cell_type": "code",
   "execution_count": null,
   "id": "6411f5a1",
   "metadata": {},
   "outputs": [],
   "source": []
  },
  {
   "cell_type": "code",
   "execution_count": 2,
   "id": "ee546779",
   "metadata": {},
   "outputs": [
    {
     "name": "stdout",
     "output_type": "stream",
     "text": [
      "['https://www.cnss.com.cn/u/cms/www/tideJson/1_2021-08-0.json?v=1658240573835', 'https://www.cnss.com.cn/u/cms/www/tideJson/1_2021-08-01.json?v=1658240573836', 'https://www.cnss.com.cn/u/cms/www/tideJson/1_2021-08-02.json?v=1658240573836', 'https://www.cnss.com.cn/u/cms/www/tideJson/1_2021-08-03.json?v=1658240573836', 'https://www.cnss.com.cn/u/cms/www/tideJson/1_2021-08-04.json?v=1658240573836', 'https://www.cnss.com.cn/u/cms/www/tideJson/1_2021-08-05.json?v=1658240573836', 'https://www.cnss.com.cn/u/cms/www/tideJson/1_2021-08-06.json?v=1658240573836', 'https://www.cnss.com.cn/u/cms/www/tideJson/1_2021-08-07.json?v=1658240573836', 'https://www.cnss.com.cn/u/cms/www/tideJson/1_2021-08-08.json?v=1658240573836', 'https://www.cnss.com.cn/u/cms/www/tideJson/1_2021-08-09.json?v=1658240573836', 'https://www.cnss.com.cn/u/cms/www/tideJson/1_2021-08-10.json?v=1658240573836', 'https://www.cnss.com.cn/u/cms/www/tideJson/1_2021-08-11.json?v=1658240573836', 'https://www.cnss.com.cn/u/cms/www/tideJson/1_2021-08-12.json?v=1658240573836', 'https://www.cnss.com.cn/u/cms/www/tideJson/1_2021-08-13.json?v=1658240573836', 'https://www.cnss.com.cn/u/cms/www/tideJson/1_2021-08-14.json?v=1658240573836', 'https://www.cnss.com.cn/u/cms/www/tideJson/1_2021-08-15.json?v=1658240573836', 'https://www.cnss.com.cn/u/cms/www/tideJson/1_2021-08-16.json?v=1658240573836', 'https://www.cnss.com.cn/u/cms/www/tideJson/1_2021-08-17.json?v=1658240573836', 'https://www.cnss.com.cn/u/cms/www/tideJson/1_2021-08-18.json?v=1658240573836', 'https://www.cnss.com.cn/u/cms/www/tideJson/1_2021-08-19.json?v=1658240573836', 'https://www.cnss.com.cn/u/cms/www/tideJson/1_2021-08-20.json?v=1658240573836', 'https://www.cnss.com.cn/u/cms/www/tideJson/1_2021-08-21.json?v=1658240573836', 'https://www.cnss.com.cn/u/cms/www/tideJson/1_2021-08-22.json?v=1658240573836', 'https://www.cnss.com.cn/u/cms/www/tideJson/1_2021-08-23.json?v=1658240573836', 'https://www.cnss.com.cn/u/cms/www/tideJson/1_2021-08-24.json?v=1658240573836', 'https://www.cnss.com.cn/u/cms/www/tideJson/1_2021-08-25.json?v=1658240573836', 'https://www.cnss.com.cn/u/cms/www/tideJson/1_2021-08-26.json?v=1658240573836', 'https://www.cnss.com.cn/u/cms/www/tideJson/1_2021-08-27.json?v=1658240573836', 'https://www.cnss.com.cn/u/cms/www/tideJson/1_2021-08-28.json?v=1658240573836', 'https://www.cnss.com.cn/u/cms/www/tideJson/1_2021-08-29.json?v=1658240573836', 'https://www.cnss.com.cn/u/cms/www/tideJson/1_2021-08-30.json?v=1658240573836']\n"
     ]
    }
   ],
   "source": [
    "code = input(\"请输入城市代码：\")\n",
    "request_url = [0]*number\n",
    "for i in range(number):\n",
    "    request_url[i] = \"https://www.cnss.com.cn/u/cms/www/tideJson/{0}_{1}-{2}-{3}.json?v={4}\".format(\n",
    "        code, year, month, ls[i], int(round(time.time() * 1000)))\n",
    "    # r = random.randint(0, 9)\n",
    "    # time.sleep(r)\n",
    "    print(\"{0}号生成完成\".format(i+1))\n",
    "print(request_url)"
   ]
  },
  {
   "cell_type": "code",
   "execution_count": 3,
   "id": "7b746aed",
   "metadata": {},
   "outputs": [
    {
     "name": "stdout",
     "output_type": "stream",
     "text": [
      "[0, '01', '02', '03', '04', '05', '06', '07', '08', '09', '10', '11', '12', '13', '14', '15', '16', '17', '18', '19', '20', '21', '22', '23', '24', '25', '26', '27', '28', '29', '30']\n"
     ]
    }
   ],
   "source": [
    "print(ls)"
   ]
  },
  {
   "cell_type": "code",
   "execution_count": 4,
   "id": "199303d5",
   "metadata": {},
   "outputs": [
    {
     "name": "stdout",
     "output_type": "stream",
     "text": [
      "31\n"
     ]
    }
   ],
   "source": [
    "print(number)"
   ]
  },
  {
   "cell_type": "code",
   "execution_count": null,
   "id": "9876fd02",
   "metadata": {},
   "outputs": [],
   "source": []
  }
 ],
 "metadata": {
  "kernelspec": {
   "display_name": "Python 3 (ipykernel)",
   "language": "python",
   "name": "python3"
  },
  "language_info": {
   "codemirror_mode": {
    "name": "ipython",
    "version": 3
   },
   "file_extension": ".py",
   "mimetype": "text/x-python",
   "name": "python",
   "nbconvert_exporter": "python",
   "pygments_lexer": "ipython3",
   "version": "3.9.6"
  }
 },
 "nbformat": 4,
 "nbformat_minor": 5
}
